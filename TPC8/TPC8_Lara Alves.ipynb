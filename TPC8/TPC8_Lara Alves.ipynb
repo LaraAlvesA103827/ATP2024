{
 "cells": [
  {
   "cell_type": "markdown",
   "id": "4193a91b",
   "metadata": {},
   "source": [
    "## TPC8: Teste de aferição\n",
    "\n",
    "Resolva os problemas apresentados a seguir."
   ]
  },
  {
   "cell_type": "markdown",
   "id": "ecb162bd",
   "metadata": {},
   "source": [
    "### tpc-1. Especifique as seguintes listas em compreensão:"
   ]
  },
  {
   "cell_type": "markdown",
   "id": "4e758271",
   "metadata": {},
   "source": [
    "#### a) Lista formada pelos elementos que não são comuns às duas listas:"
   ]
  },
  {
   "cell_type": "code",
   "execution_count": 28,
   "id": "1fe48423",
   "metadata": {},
   "outputs": [
    {
     "name": "stdout",
     "output_type": "stream",
     "text": [
      "[1, 2, 3, 6, 7, 8]\n"
     ]
    }
   ],
   "source": [
    "#Listas em compreensão: definidas dentro da lista: Rever este \n",
    "\n",
    "lista1 = [1, 2, 3, 4, 5]\n",
    "lista2 = [4, 5, 6, 7, 8]  \n",
    "ncomuns1 = [x for x in lista1 if x not in lista2]\n",
    "ncomuns2 = [x for x in lista2 if x not in lista1]\n",
    "a=lista1+lista2\n",
    "\n",
    "\n",
    "ncomuns =[x for x in lista1+lista2 if (x in lista1) != (x in lista2)]\n",
    "print(ncomuns)\n",
    "# Resultado esperado: [1,2,3,7,8]"
   ]
  },
  {
   "cell_type": "markdown",
   "id": "0ded2f03",
   "metadata": {},
   "source": [
    "#### b) Lista formada pelas palavras do texto compostas por mais de 3 letras:"
   ]
  },
  {
   "cell_type": "code",
   "execution_count": 29,
   "id": "4ae7f5d0",
   "metadata": {},
   "outputs": [
    {
     "name": "stdout",
     "output_type": "stream",
     "text": [
      "['Vivia', 'poucos', 'anos', 'algures', 'concelho', 'Ribatejo', 'pequeno', 'lavrador', 'negociante', 'gado', 'chamado', 'Manuel', 'Peres', 'Vigário']\n"
     ]
    }
   ],
   "source": [
    "texto = \"\"\"Vivia há já não poucos anos algures num concelho do Ribatejo \n",
    "    um pequeno lavrador e negociante de gado chamado Manuel Peres Vigário\"\"\"\n",
    "lista = [x for x in texto.split() if len(x)>3]\n",
    "\n",
    "print(lista)\n",
    "# Resultado esperado: ['Vivia', 'poucos', 'anos', 'algures', 'concelho', ...]"
   ]
  },
  {
   "cell_type": "markdown",
   "id": "ecf72afd",
   "metadata": {},
   "source": [
    "#### c) Lista formada por pares do tipo (índice, valor) com os valores da lista dada:"
   ]
  },
  {
   "cell_type": "code",
   "execution_count": 30,
   "id": "876b2cc3",
   "metadata": {},
   "outputs": [
    {
     "name": "stdout",
     "output_type": "stream",
     "text": [
      "[(0, 'anaconda'), (1, 'burro'), (2, 'cavalo'), (3, 'macaco')]\n"
     ]
    }
   ],
   "source": [
    "#Lista formada por tuplos \n",
    "lista = ['anaconda', 'burro', 'cavalo', 'macaco']\n",
    "listaRes = [(x,y) for x, y in enumerate(lista)]\n",
    "\n",
    "print(listaRes)\n",
    "# Resultado esperado: [(1,'anaconda'), (2,'burro'), (3,'cavalo'), (4,'macaco')]"
   ]
  },
  {
   "cell_type": "markdown",
   "id": "28cb3dc4",
   "metadata": {},
   "source": [
    "### tpc-2. À semelhança do que foi feito nas aulas, realize as seguintes tarefas:"
   ]
  },
  {
   "cell_type": "markdown",
   "id": "5d3f1dbe",
   "metadata": {},
   "source": [
    "#### a) Especifique uma função que dada uma string e uma substring não vazia, calcula  o número de vezes em que a substring aparece na string, sem que haja sobreposição de substrings:"
   ]
  },
  {
   "cell_type": "code",
   "execution_count": 31,
   "id": "4458c7bc",
   "metadata": {},
   "outputs": [
    {
     "name": "stdout",
     "output_type": "stream",
     "text": [
      "2\n",
      "1\n",
      "0\n"
     ]
    }
   ],
   "source": [
    "def strCount(s, subs):\n",
    "    a = len(subs)\n",
    "    palavra = \"\"\n",
    "    res = 0\n",
    "    for n in s:\n",
    "        palavra = s[:a]\n",
    "        if palavra == subs:\n",
    "            res = res + 1\n",
    "        s = s[a:] \n",
    "    return res\n",
    "\n",
    "print (strCount(\"catcowcat\", \"cat\")) # --> 2\n",
    "print (strCount(\"catcowcat\", \"cow\")) # --> 1\n",
    "print (strCount(\"catcowcat\", \"dog\")) # --> 0"
   ]
  },
  {
   "cell_type": "markdown",
   "id": "e6db31d7",
   "metadata": {},
   "source": [
    "#### b) Especifique uma função que recebe uma lista de números inteiros positivos e devolve o menor produto que for possível calcular multiplicando os 3 menores inteiros da lista:"
   ]
  },
  {
   "cell_type": "code",
   "execution_count": 32,
   "id": "2b5ad344",
   "metadata": {},
   "outputs": [
    {
     "name": "stdout",
     "output_type": "stream",
     "text": [
      "168\n"
     ]
    }
   ],
   "source": [
    "def produtoM3(lista):\n",
    "    ordenado=sorted(lista) \n",
    "    res=ordenado[0]*ordenado[1]*ordenado[2]\n",
    "\n",
    "    return  res\n",
    "\n",
    "print(produtoM3([12,3,7,10,12,8,9]))\n",
    "# Resultado esperado: 168 = 3 * 7 * 8"
   ]
  },
  {
   "cell_type": "markdown",
   "id": "6698b337",
   "metadata": {},
   "source": [
    "#### c) Especifique uma função que dado um número inteiro positivo, repetidamente adiciona os seus dígitos até obter apenas um dígito que é retornado como resultado:"
   ]
  },
  {
   "cell_type": "code",
   "execution_count": 33,
   "id": "54cef309",
   "metadata": {},
   "outputs": [
    {
     "data": {
      "text/plain": [
       "12"
      ]
     },
     "execution_count": 33,
     "metadata": {},
     "output_type": "execute_result"
    }
   ],
   "source": [
    "# Input: 38\n",
    "# Output: 2\n",
    "# Explicação: 3 + 8 = 11, 1 + 1 = 2.\n",
    "\n",
    "# Input: 777\n",
    "# Output: 3\n",
    "# Explicação: 7 + 7 + 7 = 21, 2 + 1 = 3.\n",
    "#NOTA: não consigo iterar sobre um inteiro \n",
    "\n",
    "def reduxInt(n):\n",
    "    res=1\n",
    "    for digito in str(n): \n",
    "        res=res*int(digito)\n",
    "\n",
    "    return res\n",
    "\n",
    "reduxInt(134)"
   ]
  },
  {
   "cell_type": "markdown",
   "id": "4a47b6e8",
   "metadata": {},
   "source": [
    "#### d) Especifique uma função que recebe duas strings, `string1` e `string2`, e devolve o índice da primeira ocorrência de `string2` em `string1`, caso não ocorra nenhuma vez a função deverá retornar `-1`:"
   ]
  },
  {
   "cell_type": "code",
   "execution_count": 34,
   "id": "f0f4c2a8",
   "metadata": {},
   "outputs": [
    {
     "data": {
      "text/plain": [
       "3"
      ]
     },
     "execution_count": 34,
     "metadata": {},
     "output_type": "execute_result"
    }
   ],
   "source": [
    "# Invocação: indexOf(\"Hoje está um belo dia de sol!\", \"belo\")\n",
    "# Resultado: 13\n",
    "\n",
    "# Invocação: indexOf(\"Hoje está um belo dia de sol!\", \"chuva\")\n",
    "# Resultado: -1\n",
    "\n",
    "\n",
    "def myIndexOf(s1, s2):\n",
    "    res=-1\n",
    "    separado=s1.split()\n",
    "    for elem in separado: \n",
    "        if elem == s2:\n",
    "            res=separado.index(elem)\n",
    "    return res\n",
    "\n",
    "myIndexOf(\"Hoje está um belo dia de sol!\", \"belo\")"
   ]
  },
  {
   "cell_type": "markdown",
   "id": "7cd572fc",
   "metadata": {},
   "source": [
    "### tpc-3. A Rede Social\n",
    "\n",
    "Considere que a informação sobre uma rede social está armazenada numa lista de dicionários.\n",
    "\n",
    "Cada dicionário, correspondente a um _post_ e tem chaves `id`, `conteudo`, `autor`, `dataCriacao` e `comentarios`.\n",
    "Por sua vez, `comentarios` é uma lista de dicionários com chaves `comentario` e `autor`.\n",
    "\n",
    "Considere o seguinte exemplo:\n",
    "\n",
    "``` \n",
    "    MyFaceBook = [{\n",
    "        'id': 'p1', \n",
    "        'conteudo': 'A tarefa de avaliação é talvez a mais ingrata das tarefas que um professor\n",
    "    tem de realizar...', \n",
    "        'autor': 'jcr', \n",
    "        'dataCriacao': '2023-07-20', \n",
    "        'comentarios': [\n",
    "            {\n",
    "                'comentario': 'Completamente de acordo...',\n",
    "                'autor': 'prh'\n",
    "            },\n",
    "            {\n",
    "                'comentario': 'Mas há quem goste...',\n",
    "                'autor': 'jj'\n",
    "            }\n",
    "        ]},\n",
    "        {\n",
    "            'id': 'p2',\n",
    "            ...\n",
    "        },\n",
    "        ...\n",
    "        ]\n",
    "```"
   ]
  },
  {
   "cell_type": "code",
   "execution_count": 35,
   "id": "a6a7d4c6",
   "metadata": {},
   "outputs": [],
   "source": [
    "MyFaceBook = [\n",
    "    {\n",
    "        'id': 'p1', \n",
    "        'conteudo': 'A tarefa de avaliação é talvez a mais ingrata das tarefas que um professor tem de realizar...', \n",
    "        'autor': 'jcr', \n",
    "        'dataCriacao': '2023-07-20', \n",
    "        'comentarios': [\n",
    "            {\n",
    "                'comentario': 'Completamente de acordo...',\n",
    "                'autor': 'prh'\n",
    "            },\n",
    "            {\n",
    "                'comentario': 'Mas há quem goste...',\n",
    "                'autor': 'jj'\n",
    "            }\n",
    "        ]\n",
    "    },\n",
    "    {\n",
    "        'id': 'p2',\n",
    "        'conteudo': 'As férias estão quase a chegar! Alguma sugestão de destinos?', \n",
    "        'autor': 'ana', \n",
    "        'dataCriacao': '2023-08-01', \n",
    "        'comentarios': [\n",
    "            {\n",
    "                'comentario': 'Recomendo as ilhas gregas!',\n",
    "                'autor': 'luis'\n",
    "            }\n",
    "        ]\n",
    "    },\n",
    "    {\n",
    "        'id': 'p3',\n",
    "        'conteudo': 'Hoje foi um dia excelente para estudar programação!', \n",
    "        'autor': 'maria', \n",
    "        'dataCriacao': '2023-08-15', \n",
    "        'comentarios': [\n",
    "            {\n",
    "                'comentario': 'Concordo, também passei o dia a estudar.',\n",
    "                'autor': 'joao'\n",
    "            },\n",
    "            {\n",
    "                'comentario': 'Nada como um bom café para acompanhar o estudo!',\n",
    "                'autor': 'catarina'\n",
    "            }\n",
    "        ]\n",
    "    }\n",
    "]\n",
    "\n",
    "\n",
    "\n"
   ]
  },
  {
   "cell_type": "markdown",
   "id": "89afc758",
   "metadata": {},
   "source": [
    "Defina as seguintes funções de manipulação e consulta da rede social:"
   ]
  },
  {
   "cell_type": "markdown",
   "id": "1aec6cd8",
   "metadata": {},
   "source": [
    "#### a) `quantosPost`, que indica quantos posts estão registados:"
   ]
  },
  {
   "cell_type": "code",
   "execution_count": 44,
   "id": "39a813ee",
   "metadata": {},
   "outputs": [
    {
     "data": {
      "text/plain": [
       "3"
      ]
     },
     "execution_count": 44,
     "metadata": {},
     "output_type": "execute_result"
    }
   ],
   "source": [
    "def quantosPost(redeSocial):\n",
    "    return len(redeSocial)\n",
    "\n",
    "quantosPost(MyFaceBook)"
   ]
  },
  {
   "cell_type": "markdown",
   "id": "2156a0c8",
   "metadata": {},
   "source": [
    "#### b)  `postsAutor`, que devolve a lista de posts de um determinado autor:"
   ]
  },
  {
   "cell_type": "code",
   "execution_count": 37,
   "id": "8a5a2a41",
   "metadata": {},
   "outputs": [
    {
     "data": {
      "text/plain": [
       "['A tarefa de avaliação é talvez a mais ingrata das tarefas que um professor tem de realizar...']"
      ]
     },
     "execution_count": 37,
     "metadata": {},
     "output_type": "execute_result"
    }
   ],
   "source": [
    "def postsAutor(redeSocial, autorE):\n",
    "    postporAutor=[]\n",
    "    for post in redeSocial:\n",
    "        if post['autor']==autorE:\n",
    "            postporAutor.append(post['conteudo'])\n",
    "\n",
    "    return postporAutor\n",
    "\n",
    "postsAutor(MyFaceBook, 'jcr')"
   ]
  },
  {
   "cell_type": "markdown",
   "id": "12f9126b",
   "metadata": {},
   "source": [
    "#### c) `autores`, que devolve a lista de autores de posts ordenada alfabeticamente:"
   ]
  },
  {
   "cell_type": "code",
   "execution_count": 38,
   "id": "d9dfe30a",
   "metadata": {},
   "outputs": [
    {
     "data": {
      "text/plain": [
       "['ana', 'jcr', 'maria']"
      ]
     },
     "execution_count": 38,
     "metadata": {},
     "output_type": "execute_result"
    }
   ],
   "source": [
    "def autores(redeSocial):\n",
    "    listaAutores=[]\n",
    "    for post in redeSocial:\n",
    "        listaAutores.append(post['autor'])\n",
    "\n",
    "    ordenado=sorted(listaAutores)\n",
    "    return  ordenado\n",
    "\n",
    "autores(MyFaceBook)"
   ]
  },
  {
   "cell_type": "markdown",
   "id": "1a0f760b",
   "metadata": {},
   "source": [
    "#### d) `insPost`, que acrescenta um novo post à rede social a partir dos parâmetros recebidos e devolve a nova rede social. \n",
    "    \n",
    "O campo `id` devrá ser calculado a partir dos já existentes, por exemplo, se a rede tiver posts com id `p1`, `p2` e `p3`, o novo `id` deverá ser `p4`."
   ]
  },
  {
   "cell_type": "code",
   "execution_count": 39,
   "id": "a00c85e3",
   "metadata": {},
   "outputs": [
    {
     "data": {
      "text/plain": [
       "[{'id': 'p1',\n",
       "  'conteudo': 'A tarefa de avaliação é talvez a mais ingrata das tarefas que um professor tem de realizar...',\n",
       "  'autor': 'jcr',\n",
       "  'dataCriacao': '2023-07-20',\n",
       "  'comentarios': [{'comentario': 'Completamente de acordo...', 'autor': 'prh'},\n",
       "   {'comentario': 'Mas há quem goste...', 'autor': 'jj'}]},\n",
       " {'id': 'p2',\n",
       "  'conteudo': 'As férias estão quase a chegar! Alguma sugestão de destinos?',\n",
       "  'autor': 'ana',\n",
       "  'dataCriacao': '2023-08-01',\n",
       "  'comentarios': [{'comentario': 'Recomendo as ilhas gregas!',\n",
       "    'autor': 'luis'}]},\n",
       " {'id': 'p3',\n",
       "  'conteudo': 'Hoje foi um dia excelente para estudar programação!',\n",
       "  'autor': 'maria',\n",
       "  'dataCriacao': '2023-08-15',\n",
       "  'comentarios': [{'comentario': 'Concordo, também passei o dia a estudar.',\n",
       "    'autor': 'joao'},\n",
       "   {'comentario': 'Nada como um bom café para acompanhar o estudo!',\n",
       "    'autor': 'catarina'}]},\n",
       " {'id': 'p4',\n",
       "  'conteudo': 'a',\n",
       "  'autor': 'lara',\n",
       "  'dataCriacao': '2023-11-03',\n",
       "  'comentarios': [{'comentario': 'Concordo, também passei o dia a estudar.',\n",
       "    'autor': 'joao'},\n",
       "   {'comentario': 'Nada como um bom café para acompanhar o estudo!',\n",
       "    'autor': 'catarina'}]}]"
      ]
     },
     "execution_count": 39,
     "metadata": {},
     "output_type": "execute_result"
    }
   ],
   "source": [
    "def insPost(redeSocial, conteudo, autor, dataCriacao, comentarios):\n",
    "    novoPost={}\n",
    "    novoPost['id']=f\"p{len(redeSocial)+1}\"\n",
    "    novoPost['conteudo']=conteudo\n",
    "    novoPost['autor']=autor\n",
    "    novoPost['dataCriacao']=dataCriacao\n",
    "    novoPost['comentarios']=comentarios\n",
    "\n",
    "\n",
    "    redeSocial.append(novoPost)\n",
    "    return redeSocial\n",
    "\n",
    "insPost(MyFaceBook, 'a', 'lara', '2023-11-03', [\n",
    "            {\n",
    "                'comentario': 'Concordo, também passei o dia a estudar.',\n",
    "                'autor': 'joao'\n",
    "            },\n",
    "            {\n",
    "                'comentario': 'Nada como um bom café para acompanhar o estudo!',\n",
    "                'autor': 'catarina'\n",
    "            }\n",
    "        ])"
   ]
  },
  {
   "cell_type": "markdown",
   "id": "65061d0a",
   "metadata": {},
   "source": [
    "#### e)  `remPost`, que remove um post da rede, correspondente ao `id` recebido."
   ]
  },
  {
   "cell_type": "code",
   "execution_count": 40,
   "id": "dc1adabc",
   "metadata": {},
   "outputs": [
    {
     "data": {
      "text/plain": [
       "[{'id': 'p1',\n",
       "  'conteudo': 'A tarefa de avaliação é talvez a mais ingrata das tarefas que um professor tem de realizar...',\n",
       "  'autor': 'jcr',\n",
       "  'dataCriacao': '2023-07-20',\n",
       "  'comentarios': [{'comentario': 'Completamente de acordo...', 'autor': 'prh'},\n",
       "   {'comentario': 'Mas há quem goste...', 'autor': 'jj'}]},\n",
       " {'id': 'p2',\n",
       "  'conteudo': 'As férias estão quase a chegar! Alguma sugestão de destinos?',\n",
       "  'autor': 'ana',\n",
       "  'dataCriacao': '2023-08-01',\n",
       "  'comentarios': [{'comentario': 'Recomendo as ilhas gregas!',\n",
       "    'autor': 'luis'}]},\n",
       " {'id': 'p3',\n",
       "  'conteudo': 'Hoje foi um dia excelente para estudar programação!',\n",
       "  'autor': 'maria',\n",
       "  'dataCriacao': '2023-08-15',\n",
       "  'comentarios': [{'comentario': 'Concordo, também passei o dia a estudar.',\n",
       "    'autor': 'joao'},\n",
       "   {'comentario': 'Nada como um bom café para acompanhar o estudo!',\n",
       "    'autor': 'catarina'}]}]"
      ]
     },
     "execution_count": 40,
     "metadata": {},
     "output_type": "execute_result"
    }
   ],
   "source": [
    "def remPost(redeSocial, id):\n",
    "    for post in redeSocial:\n",
    "        if post['id']==id:\n",
    "            redeSocial.remove(post) \n",
    "    return redeSocial\n",
    "\n",
    "remPost(MyFaceBook, 'p4')"
   ]
  },
  {
   "cell_type": "markdown",
   "id": "de46a635",
   "metadata": {},
   "source": [
    "#### f) `postsPorAutor`, que devolve uma distribuição de posts por autor (à semelhança do que foi feito nas aulas)."
   ]
  },
  {
   "cell_type": "code",
   "execution_count": 41,
   "id": "4118730d",
   "metadata": {},
   "outputs": [
    {
     "data": {
      "text/plain": [
       "[('jcr',\n",
       "  {'id': 'p1',\n",
       "   'conteudo': 'A tarefa de avaliação é talvez a mais ingrata das tarefas que um professor tem de realizar...',\n",
       "   'autor': 'jcr',\n",
       "   'dataCriacao': '2023-07-20',\n",
       "   'comentarios': [{'comentario': 'Completamente de acordo...',\n",
       "     'autor': 'prh'},\n",
       "    {'comentario': 'Mas há quem goste...', 'autor': 'jj'}]}),\n",
       " ('ana',\n",
       "  {'id': 'p2',\n",
       "   'conteudo': 'As férias estão quase a chegar! Alguma sugestão de destinos?',\n",
       "   'autor': 'ana',\n",
       "   'dataCriacao': '2023-08-01',\n",
       "   'comentarios': [{'comentario': 'Recomendo as ilhas gregas!',\n",
       "     'autor': 'luis'}]}),\n",
       " ('maria',\n",
       "  {'id': 'p3',\n",
       "   'conteudo': 'Hoje foi um dia excelente para estudar programação!',\n",
       "   'autor': 'maria',\n",
       "   'dataCriacao': '2023-08-15',\n",
       "   'comentarios': [{'comentario': 'Concordo, também passei o dia a estudar.',\n",
       "     'autor': 'joao'},\n",
       "    {'comentario': 'Nada como um bom café para acompanhar o estudo!',\n",
       "     'autor': 'catarina'}]})]"
      ]
     },
     "execution_count": 41,
     "metadata": {},
     "output_type": "execute_result"
    }
   ],
   "source": [
    "def postsPorAutor(redeSocial):  #É assim que o professor quer ?\n",
    "    listaPostsporAutor=[]\n",
    "    for post in redeSocial:\n",
    "        tuplo=(post['autor'], post)\n",
    "        listaPostsporAutor.append(tuplo)\n",
    "\n",
    "    return listaPostsporAutor\n",
    "\n",
    "postsPorAutor(MyFaceBook)"
   ]
  },
  {
   "cell_type": "markdown",
   "id": "5b1d7d7a",
   "metadata": {},
   "source": [
    "#### g) `comentadoPor`, que recebe um autor e devolve a lista de posts comentados por esse autor."
   ]
  },
  {
   "cell_type": "code",
   "execution_count": 42,
   "id": "a91f2619",
   "metadata": {},
   "outputs": [
    {
     "data": {
      "text/plain": [
       "['A tarefa de avaliação é talvez a mais ingrata das tarefas que um professor tem de realizar...']"
      ]
     },
     "execution_count": 42,
     "metadata": {},
     "output_type": "execute_result"
    }
   ],
   "source": [
    "def comentadoPor(redeSocial, autor):\n",
    "    postsComentados=[]\n",
    "    for post in redeSocial:\n",
    "        for comentario in post['comentarios']:\n",
    "            if comentario['autor']==autor:\n",
    "                postsComentados.append(post['conteudo'])\n",
    "\n",
    "    return postsComentados\n",
    "\n",
    "comentadoPor(MyFaceBook, 'jj')"
   ]
  }
 ],
 "metadata": {
  "kernelspec": {
   "display_name": "Python 3",
   "language": "python",
   "name": "python3"
  },
  "language_info": {
   "codemirror_mode": {
    "name": "ipython",
    "version": 3
   },
   "file_extension": ".py",
   "mimetype": "text/x-python",
   "name": "python",
   "nbconvert_exporter": "python",
   "pygments_lexer": "ipython3",
   "version": "3.11.5"
  }
 },
 "nbformat": 4,
 "nbformat_minor": 5
}
